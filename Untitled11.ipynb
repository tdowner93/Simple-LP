{
  "nbformat": 4,
  "nbformat_minor": 0,
  "metadata": {
    "colab": {
      "provenance": []
    },
    "kernelspec": {
      "name": "python3",
      "display_name": "Python 3"
    },
    "language_info": {
      "name": "python"
    }
  },
  "cells": [
    {
      "cell_type": "code",
      "execution_count": null,
      "metadata": {
        "id": "5yPl1afPt8Iz",
        "colab": {
          "base_uri": "https://localhost:8080/"
        },
        "outputId": "910ca5b3-e8c4-4300-c4cd-c620920b93e4"
      },
      "outputs": [
        {
          "output_type": "stream",
          "name": "stdout",
          "text": [
            "Requirement already satisfied: cplex in /usr/local/lib/python3.11/dist-packages (22.1.2.0)\n",
            "Requirement already satisfied: docplex in /usr/local/lib/python3.11/dist-packages (2.29.241)\n",
            "Requirement already satisfied: six in /usr/local/lib/python3.11/dist-packages (from docplex) (1.17.0)\n"
          ]
        }
      ],
      "source": [
        "!pip install cplex\n",
        "!pip install docplex"
      ]
    },
    {
      "cell_type": "markdown",
      "source": [
        "Installs cplex and docplex (only needed once per Colab session)."
      ],
      "metadata": {
        "id": "twaRDui_wxne"
      }
    },
    {
      "cell_type": "code",
      "source": [
        "from docplex.mp.model import Model\n"
      ],
      "metadata": {
        "id": "Dhu3G7YGrgn8"
      },
      "execution_count": null,
      "outputs": []
    },
    {
      "cell_type": "markdown",
      "source": [
        "Creates a linear programming model to maximize golf course revenue."
      ],
      "metadata": {
        "id": "d5yk7Q4Yw0nH"
      }
    },
    {
      "cell_type": "code",
      "source": [
        "model = Model(name=\"golf-course-scheduling\")"
      ],
      "metadata": {
        "id": "ujhh3GhEuIho"
      },
      "execution_count": null,
      "outputs": []
    },
    {
      "cell_type": "code",
      "source": [
        "x = model.integer_var(name=\"Weekday_Tee_Times\")\n",
        "y = model.integer_var(name=\"Weekend_Tee_Times\")"
      ],
      "metadata": {
        "id": "NMeLe-cRrFjN"
      },
      "execution_count": null,
      "outputs": []
    },
    {
      "cell_type": "markdown",
      "source": [
        "Defines decision variables: weekday (x) and weekend (y) tee times."
      ],
      "metadata": {
        "id": "lgHYPighw27m"
      }
    },
    {
      "cell_type": "code",
      "source": [
        "model.maximize(50 * x + 80 * y)"
      ],
      "metadata": {
        "id": "B_t41rDZuOVK"
      },
      "execution_count": null,
      "outputs": []
    },
    {
      "cell_type": "code",
      "source": [
        "model.add_constraint(x <= 200, \"Weekday_Daylight_Hours\")\n",
        "model.add_constraint(y <= 80, \"Weekend_Daylight_Hours\")\n",
        "model.add_constraint(x <= 50, \"Weekday_Staffing\")\n",
        "model.add_constraint(y <= 20, \"Weekend_Staffing\")"
      ],
      "metadata": {
        "id": "Deb6it4NuQSm",
        "colab": {
          "base_uri": "https://localhost:8080/"
        },
        "outputId": "36fe08a0-20b0-464c-cb72-3cd4e3774035"
      },
      "execution_count": null,
      "outputs": [
        {
          "output_type": "execute_result",
          "data": {
            "text/plain": [
              "docplex.mp.LinearConstraint[Weekend_Staffing](Weekend_Tee_Times,LE,20)"
            ]
          },
          "metadata": {},
          "execution_count": 28
        }
      ]
    },
    {
      "cell_type": "markdown",
      "source": [
        "Adds constraints on daylight hours and staffing."
      ],
      "metadata": {
        "id": "C1Cnozfpw_pH"
      }
    },
    {
      "cell_type": "code",
      "source": [
        "solution = model.solve()"
      ],
      "metadata": {
        "id": "o22U9ftsuSVd"
      },
      "execution_count": null,
      "outputs": []
    },
    {
      "cell_type": "code",
      "source": [
        "if solution:\n",
        "    print(\"✅ Optimal Tee Time Scheduling:\")\n",
        "    print(f\"📅 Weekday Tee Times: {x.solution_value}\")\n",
        "    print(f\"🗓️ Weekend Tee Times: {y.solution_value}\")\n",
        "    print(f\"💰 Maximum Revenue: ${solution.objective_value}\")\n",
        "else:\n",
        "    print(\"❌ No optimal solution found.\")"
      ],
      "metadata": {
        "id": "6jZ11nFjuUck",
        "colab": {
          "base_uri": "https://localhost:8080/"
        },
        "outputId": "dcfd3250-c1ce-4563-d9e4-a0ce7393aca5"
      },
      "execution_count": null,
      "outputs": [
        {
          "output_type": "stream",
          "name": "stdout",
          "text": [
            "✅ Optimal Tee Time Scheduling:\n",
            "📅 Weekday Tee Times: 50.0\n",
            "🗓️ Weekend Tee Times: 20.0\n",
            "💰 Maximum Revenue: $4100.0\n"
          ]
        }
      ]
    },
    {
      "cell_type": "markdown",
      "source": [
        "Solves the model and prints the optimal schedule & revenue."
      ],
      "metadata": {
        "id": "8QR-Z-SFxCHb"
      }
    }
  ]
}